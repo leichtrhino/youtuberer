{
  "nbformat": 4,
  "nbformat_minor": 0,
  "metadata": {
    "colab": {
      "name": "YouTuberer",
      "private_outputs": true,
      "provenance": [],
      "collapsed_sections": []
    },
    "kernelspec": {
      "name": "python3",
      "display_name": "Python 3"
    }
  },
  "cells": [
    {
      "cell_type": "markdown",
      "metadata": {
        "id": "ONxJfDdbymr7"
      },
      "source": [
        "# 日本語版VoxCelebの動画データを作成する\n",
        "\n",
        "ここでは、[syncnet_python](https://github.com/joonson/syncnet_python)を使って[VoxCeleb](http://www.robots.ox.ac.uk/~vgg/data/voxceleb/)の日本語版のもととなる動画データを作成します。\n"
      ]
    },
    {
      "cell_type": "markdown",
      "metadata": {
        "id": "Kv9ehzmznUF0"
      },
      "source": [
        "### Driveの接続"
      ]
    },
    {
      "cell_type": "code",
      "metadata": {
        "id": "aIQ2C0WIyi89"
      },
      "source": [
        "from google.colab import drive\n",
        "drive.mount('/content/drive')"
      ],
      "execution_count": null,
      "outputs": []
    },
    {
      "cell_type": "markdown",
      "metadata": {
        "id": "KVZITP56nYf5"
      },
      "source": [
        "### git clone とその他の操作"
      ]
    },
    {
      "cell_type": "code",
      "metadata": {
        "id": "ZD5Flp-JndTr"
      },
      "source": [
        "!git clone --recursive https://github.com/leichtrhino/youtuberer.git\n",
        "%cd youtuberer/syncnet_python\n",
        "!pip install -r requirements.txt\n",
        "!pip install facenet-pytorch\n",
        "!pip install pafy youtube_dl\n",
        "!./download_model.sh\n",
        "%cd .."
      ],
      "execution_count": null,
      "outputs": []
    },
    {
      "cell_type": "markdown",
      "metadata": {
        "id": "nsg-QvoiNmHk"
      },
      "source": [
        "### 実行"
      ]
    },
    {
      "cell_type": "code",
      "metadata": {
        "id": "TzZnDzoCMUEc"
      },
      "source": [
        "!python 04-run-syncnet.py --max-video-length 1200 '/content/drive/My Drive/YouTuberer/videos-for-syncnet-202012.csv' '/content/drive/My Drive/YouTuberer/syncnet_out'"
      ],
      "execution_count": null,
      "outputs": []
    },
    {
      "cell_type": "markdown",
      "metadata": {
        "id": "GgX61i_wAnOr"
      },
      "source": [
        "### Confidenceスコア取得"
      ]
    },
    {
      "cell_type": "code",
      "metadata": {
        "id": "vpSNMfTOrEB_"
      },
      "source": [
        "!python '/content/drive/MyDrive/YouTuberer/05-calculate-confidence.py' '/content/drive/My Drive/YouTuberer/syncnet_out' 'confidence-score.csv'"
      ],
      "execution_count": null,
      "outputs": []
    }
  ]
}