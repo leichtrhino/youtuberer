{
  "nbformat": 4,
  "nbformat_minor": 0,
  "metadata": {
    "colab": {
      "name": "YouTuberer",
      "provenance": [],
      "collapsed_sections": [],
      "toc_visible": true
    },
    "kernelspec": {
      "name": "python3",
      "display_name": "Python 3"
    }
  },
  "cells": [
    {
      "cell_type": "markdown",
      "metadata": {
        "id": "ONxJfDdbymr7",
        "colab_type": "text"
      },
      "source": [
        "# 日本語版VoxCelebの動画データを作成する\n",
        "\n",
        "ここでは、[syncnet_python](https://github.com/joonson/syncnet_python)を使って[VoxCeleb](http://www.robots.ox.ac.uk/~vgg/data/voxceleb/)の日本語版のもととなる動画データを作成します。\n"
      ]
    },
    {
      "cell_type": "markdown",
      "metadata": {
        "id": "Kv9ehzmznUF0",
        "colab_type": "text"
      },
      "source": [
        "### Driveの接続"
      ]
    },
    {
      "cell_type": "code",
      "metadata": {
        "id": "aIQ2C0WIyi89",
        "colab_type": "code",
        "colab": {}
      },
      "source": [
        "from google.colab import drive\n",
        "drive.mount('/content/drive')"
      ],
      "execution_count": 0,
      "outputs": []
    },
    {
      "cell_type": "markdown",
      "metadata": {
        "id": "KVZITP56nYf5",
        "colab_type": "text"
      },
      "source": [
        "### git clone とその他の操作"
      ]
    },
    {
      "cell_type": "code",
      "metadata": {
        "id": "ZD5Flp-JndTr",
        "colab_type": "code",
        "colab": {}
      },
      "source": [
        "!git clone --recursive https://github.com/leichtrhino/youtuberer.git\n",
        "%cd youtuberer/syncnet_python\n",
        "!pip install -r requirements.txt\n",
        "!pip install facenet-pytorch\n",
        "!pip install pafy youtube_dl\n",
        "!./download_model.sh\n",
        "%cd .."
      ],
      "execution_count": 0,
      "outputs": []
    },
    {
      "cell_type": "markdown",
      "metadata": {
        "id": "nsg-QvoiNmHk",
        "colab_type": "text"
      },
      "source": [
        "### 実行"
      ]
    },
    {
      "cell_type": "code",
      "metadata": {
        "id": "TzZnDzoCMUEc",
        "colab_type": "code",
        "colab": {}
      },
      "source": [
        "!python 04-run-syncnet.py --max-video-length 1200 '/content/drive/My Drive/YouTuberer/videos-for-syncnet.csv' '/content/drive/My Drive/YouTuberer/syncnet_out'"
      ],
      "execution_count": 0,
      "outputs": []
    },
    {
      "cell_type": "markdown",
      "metadata": {
        "id": "GgX61i_wAnOr",
        "colab_type": "text"
      },
      "source": [
        "### Confidenceスコア取得"
      ]
    },
    {
      "cell_type": "code",
      "metadata": {
        "id": "AlMN756eMPVK",
        "colab_type": "code",
        "colab": {}
      },
      "source": [
        "!python 05-postprocess.py --verbose --ignore-noexist --without-embedding '/content/drive/My Drive/YouTuberer/syncnet_out'"
      ],
      "execution_count": 0,
      "outputs": []
    },
    {
      "cell_type": "code",
      "metadata": {
        "id": "3749KKRBIIqe",
        "colab_type": "code",
        "colab": {}
      },
      "source": [
        "import re\n",
        "import os\n",
        "import pickle\n",
        "\n",
        "syncnet_out_dir = '/content/drive/My Drive/YouTuberer/syncnet_out'\n",
        "pywork_dir = os.path.join(syncnet_out_dir, 'pywork')\n",
        "\n",
        "def get_confidence_scores(vid):\n",
        "  confidence_path = os.path.join(pywork_dir, vid, 'confidence.pckl')\n",
        "  if not os.path.isfile(confidence_path):\n",
        "    return []\n",
        "  with open(confidence_path, 'rb') as fp:\n",
        "    scores = [s['framewise-conf'] for s in pickle.load(fp)]\n",
        "  return [(f'{vid}.{i:06}', str(s)) for i, score in enumerate(scores) for s in score]\n",
        "\n",
        "vids = list(filter(lambda x: re.match(r'[\\w\\-]{8,12}', x), os.listdir(pywork_dir)))\n",
        "header = 'scene,score'\n",
        "body = '\\n'.join(','.join(s) for s in sum(map(get_confidence_scores, vids), []))\n",
        "\n",
        "with open('framewise-confidence-score.csv', 'w') as fp:\n",
        "  print(header, file=fp)\n",
        "  print(body, file=fp)\n"
      ],
      "execution_count": 0,
      "outputs": []
    }
  ]
}